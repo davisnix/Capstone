{
    "cells": [
        {
            "attachments": {},
            "cell_type": "markdown",
            "metadata": {
                "collapsed": true
            },
            "source": "# Opening a Bar in San Francisco\n\n\n\n## 1. Introduction\n\n### 1.1.  Business Problem\n\nIt's a rainy weekend in San Francisco and you're sitting at a table across from your three best friends, spitballing dreams of owning your own bar. You don't know much about what you have to do logistically to acquire or build a bar, but you and your friends seem to have millions of ideas for the types of drinks and atmosphere that would make your bar the best in the city. You have a heated debate over the optimal neighborhood for setting up shop, but you can all agree that you would like it to be located in a safer part of the city and in a spot where peaople already tend to hang out. Assuming money isn't an issue, and you can just charge $9 for a beer to keep up with being located in the more expensive parts of town (the joys of San Francisco living), how can you figure out the best place in the city to start your dream bar? \n\nThat's what this project aims to figure out. \n\n### 1.2. Target Audience\n\nThe target audience of this report would be anyone who wants to buy or build a bar in San Francisco, or anyone in San Francisco just looking for a nice area to grab a drink.\n\n\n\n## 2. Data\n\nIn order to best make this decision, we're gonna need some data. Fortunately, the city of San Francisco has hundreds of public datasets that describe various aspects of the city, and Foursquare API allows free access to some of its location and venue data. \n\nAltogether, we are looking at three sets of data for our analysis:\n\n\n1. **[San Francisco Crime Data](https://data.sfgov.org/Public-Safety/Police-Department-Incident-Reports-2018-to-Present/wg3w-h783)**.\n    - This is going to help us by providing a list of every neighborhood in San Francisco, and allowing us to select one of the safest areas for our bar\n    \n    \n2. **[San Francisco Registered Business Data](https://data.sfgov.org/Economy-and-Community/Registered-Business-Locations-San-Francisco/g8m3-pdis)**.\n    - This is going to help us roughly gauge the foot traffic in each neighborhood of San Francisco (at least on the weekdays) by providing the number of businesses located within each neighborhood.\n    \n    \n3. **Foursquare API**\n    - Foursquare data is robust and provides location data for Apple and Uber. Foursquare API allows you to retrieve information about the most popular spots in each neighborhood in San Francisco. This will be another good indication of foot traffic for particular venue types. Calling the Foursquare API returns a JSON file, which can be turned into a dataframe for analysis in python.\n    "
        },
        {
            "cell_type": "code",
            "execution_count": null,
            "metadata": {},
            "outputs": [],
            "source": ""
        }
    ],
    "metadata": {
        "kernelspec": {
            "display_name": "Python 3.6",
            "language": "python",
            "name": "python3"
        },
        "language_info": {
            "codemirror_mode": {
                "name": "ipython",
                "version": 3
            },
            "file_extension": ".py",
            "mimetype": "text/x-python",
            "name": "python",
            "nbconvert_exporter": "python",
            "pygments_lexer": "ipython3",
            "version": "3.6.8"
        }
    },
    "nbformat": 4,
    "nbformat_minor": 1
}